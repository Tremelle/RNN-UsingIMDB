{
  "nbformat": 4,
  "nbformat_minor": 0,
  "metadata": {
    "colab": {
      "name": "RNN_using_IMDB_Database.ipynb",
      "version": "0.3.2",
      "provenance": [],
      "collapsed_sections": []
    },
    "kernelspec": {
      "name": "python3",
      "display_name": "Python 3"
    }
  },
  "cells": [
    {
      "metadata": {
        "id": "KNyf69pLB5_t",
        "colab_type": "code",
        "outputId": "27a4eae8-36f2-4703-a2fe-5b5182c492b8",
        "colab": {
          "base_uri": "https://localhost:8080/",
          "height": 34
        }
      },
      "cell_type": "code",
      "source": [
        "import numpy as np\n",
        "import matplotlib.pyplot as plt\n",
        "from keras.models import Sequential\n",
        "from keras.layers import Dense\n",
        "from keras import optimizers\n",
        "from keras.datasets import imdb"
      ],
      "execution_count": 0,
      "outputs": [
        {
          "output_type": "stream",
          "text": [
            "Using TensorFlow backend.\n"
          ],
          "name": "stderr"
        }
      ]
    },
    {
      "metadata": {
        "id": "xk8ysHYECSJq",
        "colab_type": "code",
        "colab": {}
      },
      "cell_type": "code",
      "source": [
        "# load data\n",
        "\n",
        "MAX_WORDS = 10000\n",
        "(train_data,train_labels),(test_data,test_labels) = imdb.load_data(num_words=MAX_WORDS)"
      ],
      "execution_count": 0,
      "outputs": []
    },
    {
      "metadata": {
        "id": "Wv9W3a_TCwX6",
        "colab_type": "code",
        "outputId": "7cd56b68-cbf9-4b2b-c0d4-57d951220074",
        "colab": {
          "base_uri": "https://localhost:8080/",
          "height": 71
        }
      },
      "cell_type": "code",
      "source": [
        "# examine data\n",
        "# train_data is a list of lists; each list is a sequence of word index values\n",
        "# train_labels is a list of class labels: 1 for a positive review, 0 for a negative review\n",
        "\n",
        "print(train_data[0])\n",
        "print(train_labels[0])"
      ],
      "execution_count": 0,
      "outputs": [
        {
          "output_type": "stream",
          "text": [
            "[1, 14, 22, 16, 43, 530, 973, 1622, 1385, 65, 458, 4468, 66, 3941, 4, 173, 36, 256, 5, 25, 100, 43, 838, 112, 50, 670, 2, 9, 35, 480, 284, 5, 150, 4, 172, 112, 167, 2, 336, 385, 39, 4, 172, 4536, 1111, 17, 546, 38, 13, 447, 4, 192, 50, 16, 6, 147, 2025, 19, 14, 22, 4, 1920, 4613, 469, 4, 22, 71, 87, 12, 16, 43, 530, 38, 76, 15, 13, 1247, 4, 22, 17, 515, 17, 12, 16, 626, 18, 2, 5, 62, 386, 12, 8, 316, 8, 106, 5, 4, 2223, 5244, 16, 480, 66, 3785, 33, 4, 130, 12, 16, 38, 619, 5, 25, 124, 51, 36, 135, 48, 25, 1415, 33, 6, 22, 12, 215, 28, 77, 52, 5, 14, 407, 16, 82, 2, 8, 4, 107, 117, 5952, 15, 256, 4, 2, 7, 3766, 5, 723, 36, 71, 43, 530, 476, 26, 400, 317, 46, 7, 4, 2, 1029, 13, 104, 88, 4, 381, 15, 297, 98, 32, 2071, 56, 26, 141, 6, 194, 7486, 18, 4, 226, 22, 21, 134, 476, 26, 480, 5, 144, 30, 5535, 18, 51, 36, 28, 224, 92, 25, 104, 4, 226, 65, 16, 38, 1334, 88, 12, 16, 283, 5, 16, 4472, 113, 103, 32, 15, 16, 5345, 19, 178, 32]\n",
            "1\n"
          ],
          "name": "stdout"
        }
      ]
    },
    {
      "metadata": {
        "id": "3f2DzTUXC6vm",
        "colab_type": "code",
        "outputId": "2256f8d7-00dc-4e37-e981-77a1c0bc9f67",
        "colab": {
          "base_uri": "https://localhost:8080/",
          "height": 595
        }
      },
      "cell_type": "code",
      "source": [
        "# translate review into english\n",
        "\n",
        "# get dict that converts words to integer index\n",
        "# (keys are words and values are index integers)\n",
        "word_index = imdb.get_word_index()\n",
        "test_word = 'the'\n",
        "print(\"WORD INDEX EXAMPLE:\")\n",
        "print(\"Word: {0} -> Index: {1}\".format(test_word,word_index[test_word]))\n",
        "\n",
        "# build reverse dict to convert integer index to word\n",
        "# (keys are index integers and values are words)\n",
        "reverse_word_lookup_list = [(value,word) for (word,value) in word_index.items()]\n",
        "reverse_word_lookup_dict = dict(reverse_word_lookup_list)\n",
        "\n",
        "# translate a list of integer indexes into a list of words\n",
        "review_number = 14918\n",
        "words_per_line = 15\n",
        "review_words = [reverse_word_lookup_dict.get(i-3,'?') for i in train_data[review_number]]\n",
        "print(\" \")\n",
        "print(\"REVIEW:\")\n",
        "for j in range(int(len(review_words)/words_per_line)):\n",
        "  print(' '.join(review_words[j*words_per_line:(j+1)*words_per_line]))\n",
        "  print(train_data[review_number][j*words_per_line:(j+1)*words_per_line])\n",
        "\n",
        "print(' ')\n",
        "# print sentiment\n",
        "if train_labels[review_number] == 1:\n",
        "  print(\"POSITIVE REVIEW\")\n",
        "else:\n",
        "  print(\"NEGATIVE REVIEW\")\n",
        "  "
      ],
      "execution_count": 0,
      "outputs": [
        {
          "output_type": "stream",
          "text": [
            "WORD INDEX EXAMPLE:\n",
            "Word: the -> Index: 1\n",
            " \n",
            "REVIEW:\n",
            "? wow the only people reviewing this positively are the carpenter ? i know a\n",
            "[1, 1318, 4, 64, 84, 6695, 14, 5402, 26, 4, 3765, 2, 13, 124, 6]\n",
            "lot of those the guys that'll watch john carpenter ? on celluloid and ? out\n",
            "[176, 7, 148, 4, 493, 9543, 106, 308, 3765, 2, 23, 4065, 5, 2, 46]\n",
            "a movie and ? it a ? of horror this movie is utter crap it\n",
            "[6, 20, 5, 2, 12, 6, 2, 7, 189, 14, 20, 9, 2152, 595, 12]\n",
            "looks and sounds like a porno good lord the soundtrack is awful and has sub\n",
            "[272, 5, 934, 40, 6, 4522, 52, 1635, 4, 816, 9, 373, 5, 47, 1492]\n",
            "par porn acting which is shocking because normally ron ? is really a very good\n",
            "[2291, 1509, 116, 63, 9, 1621, 88, 1760, 2709, 2, 9, 66, 6, 55, 52]\n",
            "actor i honestly have no idea what carpenter was thinking when making this most likely\n",
            "[284, 13, 1252, 28, 57, 326, 51, 3765, 16, 536, 54, 231, 14, 91, 1329]\n",
            "? ? ? until somebody fed him and rolled him up into a ? for\n",
            "[2, 2, 2, 366, 1843, 5070, 90, 5, 4985, 90, 56, 83, 6, 2, 18]\n",
            "the day they say nothing about the abortion debate whatsoever when they could have had\n",
            "[4, 251, 36, 135, 164, 44, 4, 7229, 5886, 1689, 54, 36, 100, 28, 69]\n",
            "a very interesting central theme how do religious ? anti ? feel when it's the\n",
            "[6, 55, 221, 1375, 756, 89, 81, 1736, 2, 1210, 2, 235, 54, 45, 4]\n",
            "devil's baby but instead they chose to have ron ? and his terribly acted kids\n",
            "[6352, 896, 21, 305, 36, 2471, 8, 28, 2709, 2, 5, 27, 1905, 917, 362]\n",
            "kill a bunch of people and have the horribly cast doctors try to calm the\n",
            "[516, 6, 762, 7, 84, 5, 28, 4, 2357, 177, 5916, 353, 8, 4869, 4]\n",
            "hysterically bad pregnant girl not a single person from this episode or what have you\n",
            "[7273, 78, 2755, 250, 24, 6, 686, 415, 39, 14, 390, 42, 51, 28, 25]\n",
            "should come away ? it's just awful like plan 9 from ? awful like good\n",
            "[144, 216, 245, 2, 45, 43, 373, 40, 1347, 790, 39, 2, 373, 40, 52]\n",
            "god please would somebody turn it off before i ? myself awful try watching this\n",
            "[558, 591, 62, 1843, 471, 12, 125, 159, 13, 2, 546, 373, 353, 149, 14]\n",
            " \n",
            "NEGATIVE REVIEW\n"
          ],
          "name": "stdout"
        }
      ]
    },
    {
      "metadata": {
        "id": "w_KXAgBaEOhX",
        "colab_type": "code",
        "outputId": "6e8373ea-2887-4005-9710-658d0adc352c",
        "colab": {
          "base_uri": "https://localhost:8080/",
          "height": 51
        }
      },
      "cell_type": "code",
      "source": [
        "# vectorize data and labels\n",
        "# there are two approaches; they give approximately the same results\n",
        "\n",
        "# alternative 1: vectorize with presense/absence of word (1 or 0 only)\n",
        "\n",
        "#def vectorize_sequences(sequences,dimensions=MAX_WORDS):\n",
        "#  results = np.zeros(shape=(len(sequences),dimensions))\n",
        "#  for i, sequence in enumerate(sequences):\n",
        "#    results[i,sequence] = 1\n",
        "#  return results\n",
        "\n",
        "# alternative 2: histogram words (count number of each word)\n",
        "\n",
        "def vectorize_sequences(sequences,dimensions=MAX_WORDS):\n",
        "  results = np.zeros(shape=(len(sequences),dimensions))\n",
        "  for i, sequence in enumerate(sequences):\n",
        "    for idx in sequence:\n",
        "      results[i,idx] += 1\n",
        "  return results\n",
        "\n",
        "# data\n",
        "x_train = vectorize_sequences(train_data)\n",
        "x_test = vectorize_sequences(test_data)\n",
        "print(\"Vectorized {0} train and {1} test sequences.\".format(len(x_train),len(x_test)))\n",
        "\n",
        "# labels\n",
        "y_train = np.asarray(train_labels).astype('float32')\n",
        "y_test = np.asarray(test_labels).astype('float32')\n",
        "print(\"Converted {0} train and {1} test labels to arrays.\".format(len(y_train),len(y_test)))\n"
      ],
      "execution_count": 0,
      "outputs": [
        {
          "output_type": "stream",
          "text": [
            "Vectorized 25000 train and 25000 test sequences.\n",
            "Converted 25000 train and 25000 test labels to arrays.\n"
          ],
          "name": "stdout"
        }
      ]
    },
    {
      "metadata": {
        "id": "I53gAvbpFDN3",
        "colab_type": "code",
        "outputId": "309f32f0-ca13-4a0c-d951-b5caff07722a",
        "colab": {
          "base_uri": "https://localhost:8080/",
          "height": 51
        }
      },
      "cell_type": "code",
      "source": [
        "# examine vectorized data and labels\n",
        "print(x_train[0][0:16])\n",
        "print(y_train[0])"
      ],
      "execution_count": 0,
      "outputs": [
        {
          "output_type": "stream",
          "text": [
            "[ 0.  1.  6.  0. 15.  9.  3.  2.  3.  1.  0.  0.  6.  3.  3.  4.]\n",
            "1.0\n"
          ],
          "name": "stdout"
        }
      ]
    },
    {
      "metadata": {
        "id": "2hXb1bHvFH2M",
        "colab_type": "code",
        "outputId": "8560f1be-8200-488e-800d-bcbb53de4303",
        "colab": {
          "base_uri": "https://localhost:8080/",
          "height": 238
        }
      },
      "cell_type": "code",
      "source": [
        "# define model\n",
        "\n",
        "model = Sequential()\n",
        "model.add(Dense(16,activation='relu',input_shape=(MAX_WORDS,)))\n",
        "model.add(Dense(16,activation='relu'))\n",
        "model.add(Dense(1,activation='sigmoid'))\n",
        "model.summary()"
      ],
      "execution_count": 0,
      "outputs": [
        {
          "output_type": "stream",
          "text": [
            "_________________________________________________________________\n",
            "Layer (type)                 Output Shape              Param #   \n",
            "=================================================================\n",
            "dense_1 (Dense)              (None, 16)                160016    \n",
            "_________________________________________________________________\n",
            "dense_2 (Dense)              (None, 16)                272       \n",
            "_________________________________________________________________\n",
            "dense_3 (Dense)              (None, 1)                 17        \n",
            "=================================================================\n",
            "Total params: 160,305\n",
            "Trainable params: 160,305\n",
            "Non-trainable params: 0\n",
            "_________________________________________________________________\n"
          ],
          "name": "stdout"
        }
      ]
    },
    {
      "metadata": {
        "id": "rBnDVOgCGLIH",
        "colab_type": "code",
        "colab": {}
      },
      "cell_type": "code",
      "source": [
        "# compile model\n",
        "\n",
        "model.compile(optimizer=optimizers.Adam(),\n",
        "             loss='binary_crossentropy',\n",
        "             metrics=['accuracy'])"
      ],
      "execution_count": 0,
      "outputs": []
    },
    {
      "metadata": {
        "id": "aVPsCZzRGqVJ",
        "colab_type": "code",
        "outputId": "1bc9b1c7-2c6f-4305-a7ff-36b261581171",
        "colab": {
          "base_uri": "https://localhost:8080/",
          "height": 170
        }
      },
      "cell_type": "code",
      "source": [
        "# fit model\n",
        "\n",
        "history = model.fit(x_train, y_train, batch_size=512, validation_split=0.1, epochs=4)"
      ],
      "execution_count": 0,
      "outputs": [
        {
          "output_type": "stream",
          "text": [
            "Train on 22500 samples, validate on 2500 samples\n",
            "Epoch 1/4\n",
            "22500/22500 [==============================] - 3s 116us/step - loss: 0.5048 - acc: 0.7693 - val_loss: 0.3447 - val_acc: 0.8764\n",
            "Epoch 2/4\n",
            "22500/22500 [==============================] - 2s 104us/step - loss: 0.2626 - acc: 0.9079 - val_loss: 0.2919 - val_acc: 0.8900\n",
            "Epoch 3/4\n",
            "22500/22500 [==============================] - 3s 120us/step - loss: 0.1865 - acc: 0.9373 - val_loss: 0.2929 - val_acc: 0.8920\n",
            "Epoch 4/4\n",
            "22500/22500 [==============================] - 2s 105us/step - loss: 0.1441 - acc: 0.9531 - val_loss: 0.3117 - val_acc: 0.8940\n"
          ],
          "name": "stdout"
        }
      ]
    },
    {
      "metadata": {
        "id": "mePOFe27IQP5",
        "colab_type": "code",
        "outputId": "f8b795ac-7c86-42b5-ed35-8cc1a39cd050",
        "colab": {
          "base_uri": "https://localhost:8080/",
          "height": 361
        }
      },
      "cell_type": "code",
      "source": [
        "# plot training loss\n",
        "\n",
        "epochs = range(1,len(history.history['loss'])+1)\n",
        "plt.plot(epochs,history.history['loss'],'bo',label='Training loss')\n",
        "plt.plot(epochs,history.history['val_loss'],'ro',label='Validation loss')\n",
        "plt.xlabel('Epochs')\n",
        "plt.ylabel('Loss')\n",
        "plt.legend()\n",
        "plt.show()"
      ],
      "execution_count": 0,
      "outputs": [
        {
          "output_type": "display_data",
          "data": {
            "image/png": "[encoded data removed]",
            "text/plain": [
              "<matplotlib.figure.Figure at 0x7f847eb3df98>"
            ]
          },
          "metadata": {
            "tags": []
          }
        }
      ]
    },
    {
      "metadata": {
        "id": "Rzy-KOgNJhmb",
        "colab_type": "code",
        "outputId": "8c5a6e81-2d2f-4613-f90c-21c413efd9c9",
        "colab": {
          "base_uri": "https://localhost:8080/",
          "height": 68
        }
      },
      "cell_type": "code",
      "source": [
        "# evaluate model\n",
        "results = model.evaluate(x_test,y_test)\n",
        "print(model.metrics_names)\n",
        "print(results)"
      ],
      "execution_count": 0,
      "outputs": [
        {
          "output_type": "stream",
          "text": [
            "25000/25000 [==============================] - 2s 67us/step\n",
            "['loss', 'acc']\n",
            "[0.31281926856517794, 0.88116]\n"
          ],
          "name": "stdout"
        }
      ]
    },
    {
      "metadata": {
        "id": "8GfgsIiZ76wI",
        "colab_type": "code",
        "outputId": "00936bba-dacc-45e4-df20-58638beaab1a",
        "colab": {
          "base_uri": "https://localhost:8080/",
          "height": 255
        }
      },
      "cell_type": "code",
      "source": [
        "# Load the Drive helper and mount\n",
        "from google.colab import drive\n",
        "\n",
        "# This will prompt for authorization.\n",
        "drive.mount('/content/drive')\n",
        "\n",
        "!ls \"/content/drive/My Drive/Colab Notebooks\""
      ],
      "execution_count": 0,
      "outputs": [
        {
          "output_type": "stream",
          "text": [
            "Drive already mounted at /content/drive; to attempt to forcibly remount, call drive.mount(\"/content/drive\", force_remount=True).\n",
            " airplane01.jpg   sample4.png\n",
            " airplane02.jpg   sample7.png\n",
            " airplane03.jpg  'STIA415_Class10 (1).ipynb'\n",
            " bird01.jpg\t  STIA415_Class10.ipynb\n",
            " bird02.jpg\t  STIA415_Class10_solution.ipynb\n",
            " bird03.jpg\t  STIA415_Class10_trained_model.h5\n",
            " dog01.jpg\t  STIA415_Class12.ipynb\n",
            " dog02.jpg\t  STIA415_Class12_solution.ipynb\n",
            " dog03.jpg\t  the_martian_review_01.gdoc\n",
            " sample2a.png\t  the_martian_review_01.txt\n",
            " sample2b.png\t  truck01.jpg\n",
            " sample2c.png\t  truck02.jpg\n",
            " sample2d.png\t  truck03.jpg\n"
          ],
          "name": "stdout"
        }
      ]
    },
    {
      "metadata": {
        "id": "dCo0yXPN7R6g",
        "colab_type": "code",
        "outputId": "53d3d5b3-5a12-4b17-825d-c9fa92f78b64",
        "colab": {
          "base_uri": "https://localhost:8080/",
          "height": 71
        }
      },
      "cell_type": "code",
      "source": [
        "# test model on random review\n",
        "\n",
        "FILENAME = \"/content/drive/My Drive/Colab Notebooks/the_martian_review_01.txt\"\n",
        "with open(FILENAME,'r') as f:\n",
        "  review_text = f.readlines()\n",
        "print(review_text[0])\n"
      ],
      "execution_count": 0,
      "outputs": [
        {
          "output_type": "stream",
          "text": [
            "﻿Proving conclusively that it really is all about the writing, Ridley Scott’s most enjoyable film in years reassures us that the creakiness of Prometheus, the cack-handed contrivance of The Counsellor and the sheer stodginess of Exodus: Gods and Kings were genetically rooted in their respective screenplays. Scott may not have the best eye for a decent script (he thought A Good Year read like a charming Russell Crowe vehicle), but when the right words are on the page he can visualise them like no other. From the creative back and forth of Hampton Fancher and David Peoples on Blade Runner, through the genius of Callie Khouri’s Thelma and Louise screenplay, to this terrifically crowd-pleasing adaptation of Andy Weir’s book by The Cabin in the Woods creator Drew Goddard, Scott’s greatest debt has always been to his writers. The director may have earned a justified reputation as a “world-building visionary”, but his audiences always demand a good story and that’s exactly what they’ve got here.\n",
            "\n"
          ],
          "name": "stdout"
        }
      ]
    },
    {
      "metadata": {
        "id": "daILlal58d8o",
        "colab_type": "code",
        "outputId": "f1206ddc-e66d-4bfc-d483-f75d081e534d",
        "colab": {
          "base_uri": "https://localhost:8080/",
          "height": 5848
        }
      },
      "cell_type": "code",
      "source": [
        "# build sequence of word indices\n",
        "# note: we have to add 3 to the index from word_index\n",
        "# because the training data (from imdb.load_data()) has \n",
        "# this offset in index values (see cells above)\n",
        "\n",
        "bag_of_words = []\n",
        "for line in review_text:\n",
        "  word_list = line.split(' ')\n",
        "  for word in word_list:\n",
        "    if word in word_index.keys():\n",
        "      idx = word_index[word] + 3\n",
        "      if idx <= MAX_WORDS:\n",
        "        bag_of_words.append(idx)\n",
        "      print(\"{0}: {1}\".format(word,idx))\n",
        "print(\"Found {0} unique words.\".format(len(bag_of_words)))\n"
      ],
      "execution_count": 0,
      "outputs": [
        {
          "output_type": "stream",
          "text": [
            "conclusively: 56542\n",
            "that: 15\n",
            "it: 12\n",
            "really: 66\n",
            "is: 9\n",
            "all: 32\n",
            "about: 44\n",
            "the: 4\n",
            "most: 91\n",
            "enjoyable: 737\n",
            "film: 22\n",
            "in: 11\n",
            "years: 153\n",
            "reassures: 45200\n",
            "us: 178\n",
            "that: 15\n",
            "the: 4\n",
            "of: 7\n",
            "the: 4\n",
            "contrivance: 17408\n",
            "of: 7\n",
            "and: 5\n",
            "the: 4\n",
            "sheer: 2099\n",
            "of: 7\n",
            "and: 5\n",
            "were: 71\n",
            "genetically: 15930\n",
            "rooted: 10161\n",
            "in: 11\n",
            "their: 68\n",
            "respective: 5489\n",
            "may: 203\n",
            "not: 24\n",
            "have: 28\n",
            "the: 4\n",
            "best: 118\n",
            "eye: 744\n",
            "for: 18\n",
            "a: 6\n",
            "decent: 542\n",
            "script: 229\n",
            "thought: 197\n",
            "read: 332\n",
            "like: 40\n",
            "a: 6\n",
            "charming: 1220\n",
            "but: 21\n",
            "when: 54\n",
            "the: 4\n",
            "right: 208\n",
            "words: 715\n",
            "are: 26\n",
            "on: 23\n",
            "the: 4\n",
            "page: 1511\n",
            "he: 29\n",
            "can: 70\n",
            "visualise: 81524\n",
            "them: 98\n",
            "like: 40\n",
            "no: 57\n",
            "the: 4\n",
            "creative: 1518\n",
            "back: 145\n",
            "and: 5\n",
            "forth: 2589\n",
            "of: 7\n",
            "and: 5\n",
            "on: 23\n",
            "through: 143\n",
            "the: 4\n",
            "genius: 1262\n",
            "of: 7\n",
            "and: 5\n",
            "to: 8\n",
            "this: 14\n",
            "terrifically: 12514\n",
            "adaptation: 1253\n",
            "of: 7\n",
            "book: 274\n",
            "by: 34\n",
            "in: 11\n",
            "the: 4\n",
            "creator: 4868\n",
            "greatest: 833\n",
            "debt: 6557\n",
            "has: 47\n",
            "always: 210\n",
            "been: 77\n",
            "to: 8\n",
            "his: 27\n",
            "director: 167\n",
            "may: 203\n",
            "have: 28\n",
            "earned: 4300\n",
            "a: 6\n",
            "justified: 6017\n",
            "reputation: 2577\n",
            "as: 17\n",
            "a: 6\n",
            "but: 21\n",
            "his: 27\n",
            "audiences: 1221\n",
            "always: 210\n",
            "demand: 4659\n",
            "a: 6\n",
            "good: 52\n",
            "story: 65\n",
            "and: 5\n",
            "that’s: 60797\n",
            "exactly: 618\n",
            "what: 51\n",
            "got: 188\n",
            "for: 18\n",
            "dead: 351\n",
            "on: 23\n",
            "the: 4\n",
            "red: 767\n",
            "planet: 1225\n",
            "following: 1045\n",
            "a: 6\n",
            "scientifically: 66008\n",
            "anomalous: 40930\n",
            "but: 21\n",
            "narratively: 57377\n",
            "necessary: 1670\n",
            "botanist: 50004\n",
            "giving: 743\n",
            "a: 6\n",
            "run: 521\n",
            "for: 18\n",
            "his: 27\n",
            "must: 215\n",
            "down: 180\n",
            "for: 18\n",
            "the: 4\n",
            "long: 196\n",
            "knowing: 1275\n",
            "that: 15\n",
            "any: 101\n",
            "rescue: 2232\n",
            "mission: 1973\n",
            "is: 9\n",
            "years: 153\n",
            "he: 29\n",
            "is: 9\n",
            "quite: 179\n",
            "literally: 1227\n",
            "“the: 33160\n",
            "best: 118\n",
            "botanist: 50004\n",
            "on: 23\n",
            "the: 4\n",
            "and: 5\n",
            "after: 103\n",
            "declaring: 16983\n",
            "that: 15\n",
            "have: 28\n",
            "to: 8\n",
            "the: 4\n",
            "out: 46\n",
            "of: 7\n",
            "his: 27\n",
            "he: 29\n",
            "discovers: 2147\n",
            "that: 15\n",
            "it: 12\n",
            "is: 9\n",
            "indeed: 849\n",
            "possible: 614\n",
            "to: 8\n",
            "grow: 2306\n",
            "potatoes: 17924\n",
            "in: 11\n",
            "his: 27\n",
            "own: 205\n",
            "is: 9\n",
            "just: 43\n",
            "the: 4\n",
            "first: 86\n",
            "of: 7\n",
            "many: 111\n",
            "survivalist: 73912\n",
            "discoveries: 17867\n",
            "that: 15\n",
            "find: 169\n",
            "entertainingly: 25071\n",
            "facing: 4432\n",
            "up: 56\n",
            "to: 8\n",
            "the: 4\n",
            "challenge: 2932\n",
            "of: 7\n",
            "only: 64\n",
            "with: 19\n",
            "recordings: 15053\n",
            "of: 7\n",
            "and: 5\n",
            "his: 27\n",
            "collection: 1594\n",
            "of: 7\n",
            "of: 7\n",
            "the: 4\n",
            "takes: 304\n",
            "great: 87\n",
            "delight: 3037\n",
            "in: 11\n",
            "its: 94\n",
            "anachronistic: 15953\n",
            "our: 263\n",
            "lonely: 2610\n",
            "starman: 47243\n",
            "pitches: 20655\n",
            "his: 27\n",
            "skills: 1959\n",
            "against: 429\n",
            "the: 4\n",
            "inhospitable: 35239\n",
            "counting: 7586\n",
            "the: 4\n",
            "solar: 12253\n",
            "days: 504\n",
            "until: 366\n",
            "help: 339\n",
            "arrives: 2957\n",
            "even: 60\n",
            "as: 17\n",
            "mission: 1973\n",
            "control: 1140\n",
            "fight: 548\n",
            "their: 68\n",
            "own: 205\n",
            "practical: 7992\n",
            "and: 5\n",
            "underlying: 5029\n",
            "riffs: 18241\n",
            "from: 39\n",
            "and: 5\n",
            "visuals: 2057\n",
            "from: 39\n",
            "with: 19\n",
            "coincidental: 23199\n",
            "hints: 4199\n",
            "of: 7\n",
            "is: 9\n",
            "once: 280\n",
            "again: 174\n",
            "stranded: 6384\n",
            "on: 23\n",
            "a: 6\n",
            "distant: 3609\n",
            "a: 6\n",
            "world: 182\n",
            "away: 245\n",
            "from: 39\n",
            "–: 5050\n",
            "what: 51\n",
            "are: 26\n",
            "the: 4\n",
            "delivers: 1545\n",
            "on: 23\n",
            "both: 199\n",
            "intergalactic: 22682\n",
            "spectacle: 6535\n",
            "and: 5\n",
            "character: 109\n",
            "much: 76\n",
            "of: 7\n",
            "the: 4\n",
            "film’s: 45848\n",
            "running: 620\n",
            "time: 58\n",
            "finds: 659\n",
            "its: 94\n",
            "leading: 971\n",
            "man: 132\n",
            "basically: 691\n",
            "talking: 662\n",
            "to: 8\n",
            "with: 19\n",
            "video: 374\n",
            "diaries: 13533\n",
            "and: 5\n",
            "delayed: 13227\n",
            "digital: 3536\n",
            "communications: 15749\n",
            "providing: 3760\n",
            "a: 6\n",
            "handy: 8747\n",
            "dramatic: 905\n",
            "framework: 10554\n",
            "for: 18\n",
            "his: 27\n",
            "makes: 166\n",
            "the: 4\n",
            "most: 91\n",
            "of: 7\n",
            "this: 14\n",
            "engaging: 1728\n",
            "our: 263\n",
            "winning: 1576\n",
            "our: 263\n",
            "sympathy: 2506\n",
            "and: 5\n",
            "teasing: 14754\n",
            "our: 263\n",
            "anxieties: 22370\n",
            "about: 44\n",
            "his: 27\n",
            "perilous: 14763\n",
            "his: 27\n",
            "former: 1138\n",
            "wrestle: 18719\n",
            "with: 19\n",
            "the: 4\n",
            "guilt: 3237\n",
            "of: 7\n",
            "his: 27\n",
            "unexpected: 2076\n",
            "survival: 4098\n",
            "does: 127\n",
            "a: 6\n",
            "very: 55\n",
            "practical: 7992\n",
            "line: 347\n",
            "in: 11\n",
            "understated: 4638\n",
            "angst: 5568\n",
            "and: 5\n",
            "heroic: 3818\n",
            "while: 137\n",
            "on: 23\n",
            "et: 4254\n",
            "al: 1540\n",
            "argue: 3924\n",
            "the: 4\n",
            "whys: 32283\n",
            "and: 5\n",
            "of: 7\n",
            "bringing: 2341\n",
            "him: 90\n",
            "Found 304 unique words.\n"
          ],
          "name": "stdout"
        }
      ]
    },
    {
      "metadata": {
        "id": "1MhqWHU092sQ",
        "colab_type": "code",
        "outputId": "b6717ded-9b08-4367-f05f-59fab5be7832",
        "colab": {
          "base_uri": "https://localhost:8080/",
          "height": 51
        }
      },
      "cell_type": "code",
      "source": [
        "# vectorize sequence to make bag-of-words and predict\n",
        "\n",
        "bag_of_words_vectorized = vectorize_sequences([bag_of_words])\n",
        "prediction_prob = model.predict_proba(bag_of_words_vectorized)\n",
        "if prediction_prob[0][0] > 0.5:\n",
        "  print(\"POSITIVE REVIEW\")\n",
        "else:\n",
        "  print(\"NEGATIVE REIVEW\")\n",
        "print(\"Prediction: {0}\".format(prediction_prob[0][0]))\n",
        "\n"
      ],
      "execution_count": 0,
      "outputs": [
        {
          "output_type": "stream",
          "text": [
            "POSITIVE REVIEW\n",
            "Prediction: 0.9999823570251465\n"
          ],
          "name": "stdout"
        }
      ]
    }
  ]
}